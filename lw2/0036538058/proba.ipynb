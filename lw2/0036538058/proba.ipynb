{
 "cells": [
  {
   "cell_type": "code",
   "execution_count": null,
   "metadata": {},
   "outputs": [],
   "source": [
    "def negate(clause):\n",
    "    return tuple(el.strip(\"~\") if \"~\" in el else f\"~{el}\" for el in clause)"
   ]
  },
  {
   "cell_type": "code",
   "execution_count": null,
   "metadata": {},
   "outputs": [],
   "source": [
    "negate((\"~a\", \"~b\", \"~c\", \"~d\", \"e\",\"f\"))"
   ]
  },
  {
   "cell_type": "code",
   "execution_count": null,
   "metadata": {},
   "outputs": [],
   "source": [
    "def is_tautology(clause):\n",
    "    for literal in clause:\n",
    "        if literal.startswith(\"~\"):\n",
    "            if literal[1:] in clause:\n",
    "                return True\n",
    "        else:\n",
    "            if f\"~{literal}\" in clause:\n",
    "                return True\n",
    "    return False"
   ]
  },
  {
   "cell_type": "code",
   "execution_count": null,
   "metadata": {},
   "outputs": [],
   "source": [
    "def parse_clause_file(path_to_clause_file):\n",
    "    clauses = {}\n",
    "    file = open(path_to_clause_file, 'r')\n",
    "    line_number = 0\n",
    "    while True:\n",
    "        line = file.readline()\n",
    "        if not line:\n",
    "            file.close()\n",
    "            break\n",
    "        if line.startswith(\"#\"):\n",
    "            continue\n",
    "        line_number += 1\n",
    "        line_elements = line.strip().split(\" \")\n",
    "        line_tuple = tuple(sorted(element.lower() for element in line_elements if element.lower() != \"v\"))\n",
    "        if is_tautology(line_tuple):\n",
    "            line_number -= 1\n",
    "            continue\n",
    "        clauses[line_tuple] = line_number\n",
    "        target_clause = line_tuple\n",
    "    del clauses[target_clause]\n",
    "    for clause in negate(target_clause):\n",
    "        clauses[clause] = line_number\n",
    "        line_number += 1\n",
    "    sorted_clauses = {key: clauses[key] for key in sorted(clauses)}\n",
    "    return sorted_clauses, target_clause, line_number"
   ]
  },
  {
   "cell_type": "code",
   "execution_count": null,
   "metadata": {},
   "outputs": [],
   "source": [
    "hola = parse_clause_file(r'C:\\FER\\6TH SEMESTER\\INTRO_TO_AI\\autograder\\data\\lab2\\files\\cooking_chicken_broccoli_alfredo_big.txt')"
   ]
  },
  {
   "cell_type": "code",
   "execution_count": null,
   "metadata": {},
   "outputs": [],
   "source": [
    "negate((\"~a\", \"~b\", \"~c\", \"~d\", \"e\",\"f\"))"
   ]
  },
  {
   "cell_type": "code",
   "execution_count": null,
   "metadata": {},
   "outputs": [],
   "source": [
    "hola[0]"
   ]
  },
  {
   "cell_type": "code",
   "execution_count": null,
   "metadata": {},
   "outputs": [],
   "source": [
    "def remove_redundant_clauses(clauses):\n",
    "    non_redundant_clauses = set()\n",
    "    for clause in clauses:\n",
    "        clause_set = set(clause)\n",
    "        if not any(clause_set != set(other_clause) and clause_set.issubset(set(other_clause)) for other_clause in clauses):\n",
    "            non_redundant_clauses.add(clause)\n",
    "    return non_redundant_clauses\n"
   ]
  },
  {
   "cell_type": "code",
   "execution_count": null,
   "metadata": {},
   "outputs": [],
   "source": [
    "def plResolve(clause_1, clause_2,clauses):\n",
    "    clause1_set = set(clause_1)\n",
    "    clause2_set = set(clause_2)\n",
    "    resolvents = set()\n",
    "\n",
    "    for element in clause1_set:\n",
    "        complementary_element = element[1:] if element.startswith(\"~\") else f\"~{element}\"\n",
    "        if complementary_element in clause2_set:\n",
    "            new_clause = clause1_set.union(clause2_set) - {element, complementary_element}\n",
    "            if not new_clause: \n",
    "               return (\"NIL\",)\n",
    "            if is_tautology(new_clause):\n",
    "               continue\n",
    "            if tuple(sorted(new_clause)) not in clauses.keys():\n",
    "                resolvents.add(tuple(sorted(new_clause)))\n",
    "    return sorted(resolvents, key=len)\n",
    " "
   ]
  },
  {
   "cell_type": "code",
   "execution_count": null,
   "metadata": {},
   "outputs": [],
   "source": [
    "def resolution(clauses, target_clause, line_num):\n",
    "    sos = set([negate(target_clause)])   \n",
    "    \n",
    "    while True:\n",
    "        new = set()\n",
    "        for id,clause_1 in enumerate(sos):\n",
    "            for clause_2 in clauses.keys():\n",
    "               # print(f\"SOS: {sos},clauses : {clauses.keys()}\")\n",
    "               resolvents = plResolve(clause_1, clause_2,clauses)\n",
    "               if \"NIL\" in resolvents: \n",
    "                  return True, clause_1, clause_2, None, None\n",
    "               new.update(resolvents)\n",
    "            for id2,previous_clause in enumerate(sos):\n",
    "                if id2>=id:\n",
    "                   break\n",
    "                if previous_clause == clause_1:\n",
    "                    break  \n",
    "                resolvents = plResolve(clause_1, previous_clause,clauses)\n",
    "                if \"NIL\" in resolvents: \n",
    "                    return True, clause_1, previous_clause, None, None\n",
    "                new.update(resolvents)\n",
    "        new = remove_redundant_clauses(new)\n",
    "        if new.issubset(clauses.keys()) or len(new)==0:\n",
    "            return False, None, None, None, None\n",
    "        l = len(sos)\n",
    "        sos.update(new)\n",
    "        sos = remove_redundant_clauses(sos)\n",
    "        l2 = len(sos)\n",
    "        if l==l2:\n",
    "            return False, None, None, None, None"
   ]
  },
  {
   "cell_type": "code",
   "execution_count": null,
   "metadata": {},
   "outputs": [],
   "source": [
    "resolution(hola[0],hola[1],hola[2])"
   ]
  },
  {
   "cell_type": "code",
   "execution_count": null,
   "metadata": {},
   "outputs": [],
   "source": [
    "if 1==1:\n",
    "      clauses,target_clause,line_num = parse_clause_file(r'C:\\FER\\6TH SEMESTER\\INTRO_TO_AI\\autograder\\data\\lab2\\files\\resolution_heldout_goal_isnegated.txt')\n",
    "      found,cl1,cl2,ln1,ln2= resolution(clauses,target_clause,line_num)\n",
    "      target_clause_f = \"\"\n",
    "      i = 0 \n",
    "      for el in target_clause:\n",
    "         if i == 0:\n",
    "            target_clause_f = target_clause_f + str(el)\n",
    "            i+=1\n",
    "         else:\n",
    "            target_clause_f+=\" v \" + str(el)\n",
    "      if found:\n",
    "         print(f\"[CONCLUSION]: {target_clause_f} is true\")\n",
    "      else:\n",
    "         print(f\"[CONCLUSION]: {target_clause_f} is unknown\")"
   ]
  },
  {
   "cell_type": "code",
   "execution_count": null,
   "metadata": {},
   "outputs": [],
   "source": []
  },
  {
   "cell_type": "code",
   "execution_count": 50,
   "metadata": {},
   "outputs": [],
   "source": [
    "import sys\n",
    "import argparse\n",
    "import itertools\n",
    "\n",
    "def parse_command_line():\n",
    "   parser = argparse.ArgumentParser()\n",
    "   parser.add_argument('task',type=str,choices=['resolution','cooking'],help=\"Type of task to run\")\n",
    "   parser.add_argument('path_to_clause_file',type=str,help=\"Path to the file with the list of clauses\")\n",
    "   parser.add_argument('path_to_user_commands_file',type=str,nargs='?',help=\"Path to the file with a list of user commands\")\n",
    "   args = parser.parse_args()\n",
    "   return args\n",
    "\n",
    "def parse_user_commands_file(path_to_user_commands_file):\n",
    "   pass\n",
    "\n",
    "def negate(clause):\n",
    "    return tuple(el.strip(\"~\") if \"~\" in el else f\"~{el}\" for el in clause)\n",
    " \n",
    "def is_tautology(clause):\n",
    "    for literal in clause:\n",
    "        if literal.startswith(\"~\"):\n",
    "            if literal[1:] in clause:\n",
    "                return True\n",
    "        else:\n",
    "            if f\"~{literal}\" in clause:\n",
    "                return True\n",
    "    return False\n",
    "\n",
    "def remove_redundant_clauses(clauses):\n",
    "    non_redundant_clauses = set()\n",
    "    for clause in clauses:\n",
    "        clause_set = set(clause)\n",
    "        if not any(clause_set != set(other_clause) and clause_set.issubset(set(other_clause)) for other_clause in clauses):\n",
    "            non_redundant_clauses.add(clause)\n",
    "    return non_redundant_clauses\n",
    "\n",
    "\n",
    "def parse_clause_file(path_to_clause_file):\n",
    "    clauses = {}\n",
    "    file = open(path_to_clause_file, 'r')\n",
    "    line_number = 0\n",
    "    while True:\n",
    "        line = file.readline()\n",
    "        if not line:\n",
    "            file.close()\n",
    "            break\n",
    "        if line.startswith(\"#\"):\n",
    "            continue\n",
    "        line_number += 1\n",
    "        line_elements = line.strip().split(\" \")\n",
    "        line_tuple = tuple(sorted(element.lower() for element in line_elements if element.lower() != \"v\"))\n",
    "        if is_tautology(line_tuple):\n",
    "            line_number -= 1\n",
    "            continue\n",
    "        clauses[line_tuple] = line_number\n",
    "        target_clause = line_tuple\n",
    "    orig = target_clause\n",
    "    del clauses[target_clause]\n",
    "    target_clause_negated = {}\n",
    "    for clause in negate(target_clause):\n",
    "        negated_clause_tuple = (clause,)\n",
    "        target_clause_negated[negated_clause_tuple] = line_number\n",
    "        line_number += 1\n",
    "    sorted_clauses = {key: clauses[key] for key in sorted(clauses)}\n",
    "    return sorted_clauses, target_clause_negated, line_number,orig\n",
    "\n",
    "def plResolve(clause_1, clause_2,clauses):\n",
    "    clause1_set = set(clause_1)\n",
    "    clause2_set = set(clause_2)\n",
    "    resolvents = set()\n",
    "\n",
    "    for element in clause1_set:\n",
    "        complementary_element = element[1:] if element.startswith(\"~\") else f\"~{element}\"\n",
    "        if complementary_element in clause2_set:\n",
    "            new_clause = clause1_set.union(clause2_set) - {element, complementary_element}\n",
    "            if not new_clause: \n",
    "               return (\"NIL\",)\n",
    "            if is_tautology(new_clause):\n",
    "               continue\n",
    "            if tuple(sorted(new_clause)) not in clauses.keys():\n",
    "                resolvents.add(tuple(sorted(new_clause)))\n",
    "    # print(resolvents)\n",
    "    return sorted(resolvents, key=len)\n",
    "\n",
    "def resolution(clauses, target_clause_negated, line_num):\n",
    "    sos = set(target_clause_negated.keys())\n",
    "    new = set()\n",
    "\n",
    "    while True:\n",
    "        for clause1 in sos:\n",
    "            for clause2 in itertools.chain(clauses.keys(), sos):\n",
    "                if clause1 != clause2:\n",
    "                    resolvents = plResolve(clause1, clause2, clauses)\n",
    "                    if \"NIL\" in resolvents:\n",
    "                        return True, clause1, clause2, None, None\n",
    "                    new.update(resolvents)\n",
    "\n",
    "        new = remove_redundant_clauses(new - sos)\n",
    "        if not new:\n",
    "            return False, None, None, None, None\n",
    "\n",
    "        sos.update(new)\n",
    "\n",
    "        \n",
    "\n",
    "def cooking(path_to_clause_file,path_to_user_commands_file):\n",
    "   pass\n",
    "\n",
    "def main():\n",
    "   args = parse_command_line()\n",
    "   if args.task=='resolution':\n",
    "      clauses,target_clause_negated,line_num,target_clause = parse_clause_file(args.path_to_clause_file)\n",
    "      found,cl1,cl2,ln1,ln2= resolution(clauses,target_clause_negated,line_num)\n",
    "      target_clause_f = \"\"\n",
    "      i = 0 \n",
    "      for el in target_clause:\n",
    "         if i == 0:\n",
    "            target_clause_f = target_clause_f + str(el)\n",
    "            i+=1\n",
    "         else:\n",
    "            target_clause_f+=\" v \" + str(el)\n",
    "      if found:\n",
    "         print(f\"[CONCLUSION]: {target_clause_f} is true\")\n",
    "      else:\n",
    "         print(f\"[CONCLUSION]: {target_clause_f} is unknown\")\n",
    "   elif args.task=='cooking':\n",
    "      cooking(args.path_to_clause_file,args.path_to_user_commands_file)\n"
   ]
  },
  {
   "cell_type": "code",
   "execution_count": 57,
   "metadata": {},
   "outputs": [
    {
     "name": "stdout",
     "output_type": "stream",
     "text": [
      "[CONCLUSION]: ('~c',) is unknown\n"
     ]
    }
   ],
   "source": [
    "if 1==1:\n",
    "      clauses,target_clause,line_num,_= parse_clause_file(r'C:\\FER\\6TH SEMESTER\\INTRO_TO_AI\\autograder\\data\\lab2\\files\\new_example_1.txt')\n",
    "      found,cl1,cl2,ln1,ln2= resolution(clauses,target_clause,line_num)\n",
    "      target_clause_f = \"\"\n",
    "      i = 0 \n",
    "      for el in target_clause:\n",
    "         if i == 0:\n",
    "            target_clause_f = target_clause_f + str(el)\n",
    "            i+=1\n",
    "         else:\n",
    "            target_clause_f+=\" v \" + str(el)\n",
    "      if found:\n",
    "         print(f\"[CONCLUSION]: {target_clause_f} is true\")\n",
    "      else:\n",
    "         print(f\"[CONCLUSION]: {target_clause_f} is unknown\")"
   ]
  },
  {
   "cell_type": "code",
   "execution_count": 42,
   "metadata": {},
   "outputs": [],
   "source": [
    "def parse_clause_file(path_to_clause_file):\n",
    "    clauses = {}\n",
    "    file = open(path_to_clause_file, 'r')\n",
    "    line_number = 0\n",
    "    while True:\n",
    "        line = file.readline()\n",
    "        if not line:\n",
    "            file.close()\n",
    "            break\n",
    "        if line.startswith(\"#\"):\n",
    "            continue\n",
    "        line_number += 1\n",
    "        line_elements = line.strip().split(\" \")\n",
    "        line_tuple = tuple(sorted(element.lower() for element in line_elements if element.lower() != \"v\"))\n",
    "        if is_tautology(line_tuple):\n",
    "            line_number -= 1\n",
    "            continue\n",
    "        clauses[line_tuple] = line_number\n",
    "        target_clause = line_tuple\n",
    "    orig = tuple(target_clause)\n",
    "    del clauses[target_clause]\n",
    "    target_clause_negated = {}\n",
    "    for clause in negate(target_clause):\n",
    "        negated_clause_tuple = (clause,)\n",
    "        target_clause_negated[negated_clause_tuple] = line_number\n",
    "        line_number += 1\n",
    "    sorted_clauses = {key: clauses[key] for key in sorted(clauses)}\n",
    "    return sorted_clauses, target_clause_negated, line_number,orig"
   ]
  },
  {
   "cell_type": "code",
   "execution_count": 43,
   "metadata": {},
   "outputs": [
    {
     "name": "stdout",
     "output_type": "stream",
     "text": [
      "{('alfredo_sauce', '~butter', '~cream', '~flour', '~milk', '~parmesan'): 12, ('broccoli',): 2, ('butter',): 5, ('chicken',): 4, ('cream',): 8, ('diced_chicken', '~chicken', '~olive_oil'): 11, ('flour',): 6, ('milk',): 7, ('olive_oil',): 3, ('parmesan',): 9, ('parsley',): 10, ('pasta',): 1}\n",
      "--------------------------------------------------------\n",
      "{('~chicken_broccoli_alfredo',): 13, ('alfredo_sauce',): 14, ('broccoli',): 15, ('diced_chicken',): 16, ('pasta',): 17}\n"
     ]
    }
   ],
   "source": [
    "rez = parse_clause_file(r'C:\\FER\\6TH SEMESTER\\INTRO_TO_AI\\autograder\\data\\lab2\\files\\cooking_chicken_broccoli_alfredo_big.txt')\n",
    "print(rez[0])\n",
    "print(\"--------------------------------------------------------\")\n",
    "print(rez[1])"
   ]
  },
  {
   "cell_type": "code",
   "execution_count": 39,
   "metadata": {},
   "outputs": [
    {
     "name": "stdout",
     "output_type": "stream",
     "text": [
      "('alfredo_sauce', '~butter', '~cream', '~flour', '~milk', '~parmesan')\n",
      "('broccoli',)\n",
      "('butter',)\n",
      "('chicken',)\n",
      "('cream',)\n",
      "('diced_chicken', '~chicken', '~olive_oil')\n",
      "('flour',)\n",
      "('milk',)\n",
      "('olive_oil',)\n",
      "('parmesan',)\n",
      "('parsley',)\n",
      "('pasta',)\n"
     ]
    }
   ],
   "source": [
    "for le in rez[0]:\n",
    "   print(le)"
   ]
  },
  {
   "cell_type": "code",
   "execution_count": 40,
   "metadata": {},
   "outputs": [
    {
     "name": "stdout",
     "output_type": "stream",
     "text": [
      "('~chicken_broccoli_alfredo',)\n",
      "('alfredo_sauce',)\n",
      "('broccoli',)\n",
      "('diced_chicken',)\n",
      "('pasta',)\n"
     ]
    }
   ],
   "source": [
    "for le in rez[1]:\n",
    "   print(le)"
   ]
  },
  {
   "cell_type": "code",
   "execution_count": 44,
   "metadata": {},
   "outputs": [
    {
     "name": "stdout",
     "output_type": "stream",
     "text": [
      "chicken_broccoli_alfredo\n",
      "~alfredo_sauce\n",
      "~broccoli\n",
      "~diced_chicken\n",
      "~pasta\n"
     ]
    }
   ],
   "source": [
    "for el in rez[3]:\n",
    "   print(el)"
   ]
  },
  {
   "cell_type": "code",
   "execution_count": 46,
   "metadata": {},
   "outputs": [
    {
     "name": "stdout",
     "output_type": "stream",
     "text": [
      "[CONCLUSION]: chicken_broccoli_alfredo v ~alfredo_sauce v ~broccoli v ~diced_chicken v ~pasta is unknown\n"
     ]
    }
   ],
   "source": [
    "def main():\n",
    "   if 1==1:\n",
    "      line_num=2\n",
    "      found,cl1,cl2,ln1,ln2= resolution(rez[0],rez[1],line_num)\n",
    "      target_clause_f = \"\"\n",
    "      i = 0 \n",
    "      for el in rez[3]:\n",
    "         if i == 0:\n",
    "            target_clause_f = target_clause_f + str(el)\n",
    "            i+=1\n",
    "         else:\n",
    "            target_clause_f+=\" v \" + str(el)\n",
    "      if found:\n",
    "         print(f\"[CONCLUSION]: {target_clause_f} is true\")\n",
    "      else:\n",
    "         print(f\"[CONCLUSION]: {target_clause_f} is unknown\")\n",
    "main()"
   ]
  }
 ],
 "metadata": {
  "kernelspec": {
   "display_name": "Python 3",
   "language": "python",
   "name": "python3"
  },
  "language_info": {
   "codemirror_mode": {
    "name": "ipython",
    "version": 3
   },
   "file_extension": ".py",
   "mimetype": "text/x-python",
   "name": "python",
   "nbconvert_exporter": "python",
   "pygments_lexer": "ipython3",
   "version": "3.11.5"
  }
 },
 "nbformat": 4,
 "nbformat_minor": 2
}
